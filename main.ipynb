{
  "nbformat": 4,
  "nbformat_minor": 0,
  "metadata": {
    "colab": {
      "provenance": [],
      "authorship_tag": "ABX9TyPFQr1gcHHrteqT8rnX2+iQ"
    },
    "kernelspec": {
      "name": "python3",
      "display_name": "Python 3"
    },
    "language_info": {
      "name": "python"
    }
  },
  "cells": [
    {
      "cell_type": "code",
      "execution_count": null,
      "metadata": {
        "id": "bPY4oiPrR2t6",
        "colab": {
          "base_uri": "https://localhost:8080/"
        },
        "outputId": "e53fd03c-422d-4436-d657-fdbd104c7462"
      },
      "outputs": [
        {
          "output_type": "stream",
          "name": "stdout",
          "text": [
            "Mounted at /content/drive\n"
          ]
        }
      ],
      "source": [
        "from google.colab import drive\n",
        "drive.mount('/content/drive')\n"
      ]
    },
    {
      "cell_type": "code",
      "source": [
        "#!apt-get install zip"
      ],
      "metadata": {
        "id": "GFXKPxW_SByA"
      },
      "execution_count": null,
      "outputs": []
    },
    {
      "cell_type": "code",
      "source": [
        "#!unzip /content/drive/MyDrive/Signature-Forgery-Detection-main.zip -d /content/drive/MyDrive/Signature-Forgery-Detection-main"
      ],
      "metadata": {
        "id": "fzJua60-Smd1"
      },
      "execution_count": null,
      "outputs": []
    },
    {
      "cell_type": "code",
      "source": [
        "import numpy as np\n",
        "import os\n",
        "import matplotlib\n",
        "import matplotlib.pyplot as plt\n",
        "import matplotlib.image as mpimg #reading & displaying img\n",
        "import matplotlib.cm as cm #colormap => visualize diff in grayscale\n",
        "from scipy import ndimage #tools for img process\n",
        "from skimage.measure import regionprops #extract features from labeled regions in binary images.\n",
        "from skimage import io\n",
        "from skimage.filters import threshold_otsu   #For finding the threshold for grayscale to binary conversion\n",
        "import tensorflow as tf\n",
        "import pandas as pd\n",
        "from time import time\n",
        "import keras\n",
        "from tensorflow.python.framework import ops\n",
        "import tensorflow.compat.v1 as tf\n",
        "tf.disable_v2_behavior()"
      ],
      "metadata": {
        "id": "FAzh-wIZTciT",
        "colab": {
          "base_uri": "https://localhost:8080/"
        },
        "outputId": "b0660e14-4312-4940-fccc-019519516b7c"
      },
      "execution_count": null,
      "outputs": [
        {
          "output_type": "stream",
          "name": "stderr",
          "text": [
            "WARNING:tensorflow:From /usr/local/lib/python3.11/dist-packages/tensorflow/python/compat/v2_compat.py:98: disable_resource_variables (from tensorflow.python.ops.resource_variables_toggle) is deprecated and will be removed in a future version.\n",
            "Instructions for updating:\n",
            "non-resource variables are not supported in the long term\n"
          ]
        }
      ]
    },
    {
      "cell_type": "code",
      "source": [
        "genuine_image_paths = r\"/content/drive/MyDrive/Signature-Forgery-Detection-main/Signature-Forgery-Detection-main/real\"\n",
        "forged_image_paths = r\"/content/drive/MyDrive/Signature-Forgery-Detection-main/Signature-Forgery-Detection-main/forged\""
      ],
      "metadata": {
        "id": "Jf5x7gJbTnwF"
      },
      "execution_count": null,
      "outputs": []
    },
    {
      "cell_type": "code",
      "source": [
        "def rgbgrey(img):\n",
        "    # Converts rgb to grayscale\n",
        "    greyimg = np.zeros((img.shape[0], img.shape[1]))\n",
        "    for row in range(len(img)):\n",
        "        for col in range(len(img[row])):\n",
        "            greyimg[row][col] = np.average(img[row][col])\n",
        "    return greyimg"
      ],
      "metadata": {
        "id": "I1Rg1-rBUe4P"
      },
      "execution_count": null,
      "outputs": []
    },
    {
      "cell_type": "code",
      "source": [
        "def greybin(img):\n",
        "    # Converts grayscale to binary\n",
        "    blur_radius = 0.8\n",
        "    img = ndimage.gaussian_filter(img, blur_radius)  # to remove small components or noise\n",
        "#     img = ndimage.binary_erosion(img).astype(img.dtype)\n",
        "    thres = threshold_otsu(img)\n",
        "    binimg = img > thres\n",
        "    binimg = np.logical_not(binimg)\n",
        "    return binimg"
      ],
      "metadata": {
        "id": "uf7WybwPUkSu"
      },
      "execution_count": null,
      "outputs": []
    },
    {
      "cell_type": "code",
      "source": [
        "def preproc(path, img=None, display=True):\n",
        "    if img is None:\n",
        "        img = mpimg.imread(path)\n",
        "    if display:\n",
        "        plt.imshow(img)\n",
        "        plt.show()\n",
        "    grey = rgbgrey(img) #rgb to grey\n",
        "    if display:\n",
        "        plt.imshow(grey, cmap = matplotlib.cm.Greys_r)\n",
        "        plt.show()\n",
        "    binimg = greybin(grey) #grey to binary\n",
        "    if display:\n",
        "        plt.imshow(binimg, cmap = matplotlib.cm.Greys_r)\n",
        "        plt.show()\n",
        "    r, c = np.where(binimg==1)\n",
        "    # Now we will make a bounding box with the boundary as the position of pixels on extreme.\n",
        "    # Thus we will get a cropped image with only the signature part.\n",
        "    signimg = binimg[r.min(): r.max(), c.min(): c.max()]\n",
        "    if display:\n",
        "        plt.imshow(signimg, cmap = matplotlib.cm.Greys_r)\n",
        "        plt.show()\n",
        "    return signimg"
      ],
      "metadata": {
        "id": "6v6x_a-PUp4w"
      },
      "execution_count": null,
      "outputs": []
    },
    {
      "cell_type": "code",
      "source": [
        "def Ratio(img):\n",
        "    a = 0\n",
        "    for row in range(len(img)):\n",
        "        for col in range(len(img[0])):\n",
        "            if img[row][col]==True:\n",
        "                a = a+1\n",
        "    total = img.shape[0] * img.shape[1]\n",
        "    return a/total"
      ],
      "metadata": {
        "id": "NsAYnuBlUwxC"
      },
      "execution_count": null,
      "outputs": []
    },
    {
      "cell_type": "code",
      "source": [
        "def Centroid(img):\n",
        "    numOfWhites = 0\n",
        "    a = np.array([0,0])\n",
        "    for row in range(len(img)):\n",
        "        for col in range(len(img[0])):\n",
        "            if img[row][col]==True:\n",
        "                b = np.array([row,col])\n",
        "                a = np.add(a,b)\n",
        "                numOfWhites += 1\n",
        "    rowcols = np.array([img.shape[0], img.shape[1]])\n",
        "    centroid = a/numOfWhites\n",
        "    centroid = centroid/rowcols\n",
        "    return centroid[0], centroid[1]"
      ],
      "metadata": {
        "id": "UxJ4l2w9U2Lu"
      },
      "execution_count": null,
      "outputs": []
    },
    {
      "cell_type": "code",
      "source": [
        "def EccentricitySolidity(img):\n",
        "    r = regionprops(img.astype(\"int8\"))\n",
        "    return r[0].eccentricity, r[0].solidity\n"
      ],
      "metadata": {
        "id": "CNtsZyxPU99o"
      },
      "execution_count": null,
      "outputs": []
    },
    {
      "cell_type": "code",
      "source": [
        "def SkewKurtosis(img):\n",
        "    h,w = img.shape\n",
        "    x = range(w)  # cols value\n",
        "    y = range(h)  # rows value\n",
        "    #calculate projections along the x and y axes\n",
        "    xp = np.sum(img,axis=0)\n",
        "    yp = np.sum(img,axis=1)\n",
        "    #centroid\n",
        "    cx = np.sum(x*xp)/np.sum(xp)\n",
        "    cy = np.sum(y*yp)/np.sum(yp)\n",
        "    #standard deviation\n",
        "    x2 = (x-cx)**2\n",
        "    y2 = (y-cy)**2\n",
        "    sx = np.sqrt(np.sum(x2*xp)/np.sum(img))\n",
        "    sy = np.sqrt(np.sum(y2*yp)/np.sum(img))\n",
        "\n",
        "    #skewness\n",
        "    x3 = (x-cx)**3\n",
        "    y3 = (y-cy)**3\n",
        "    skewx = np.sum(xp*x3)/(np.sum(img) * sx**3)\n",
        "    skewy = np.sum(yp*y3)/(np.sum(img) * sy**3)\n",
        "\n",
        "    #Kurtosis\n",
        "    x4 = (x-cx)**4\n",
        "    y4 = (y-cy)**4\n",
        "    # 3 is subtracted to calculate relative to the normal distribution\n",
        "    kurtx = np.sum(xp*x4)/(np.sum(img) * sx**4) - 3\n",
        "    kurty = np.sum(yp*y4)/(np.sum(img) * sy**4) - 3\n",
        "\n",
        "    return (skewx , skewy), (kurtx, kurty)"
      ],
      "metadata": {
        "id": "j58IEjMeVE5d"
      },
      "execution_count": null,
      "outputs": []
    },
    {
      "cell_type": "code",
      "source": [
        "def getFeatures(path, img=None, display=False):\n",
        "    if img is None:\n",
        "        img = mpimg.imread(path)\n",
        "    img = preproc(path, display=display)\n",
        "    ratio = Ratio(img)\n",
        "    centroid = Centroid(img)\n",
        "    eccentricity, solidity = EccentricitySolidity(img)\n",
        "    skewness, kurtosis = SkewKurtosis(img)\n",
        "    retVal = (ratio, centroid, eccentricity, solidity, skewness, kurtosis)\n",
        "    return retVal"
      ],
      "metadata": {
        "id": "yc_-vKviVKx9"
      },
      "execution_count": null,
      "outputs": []
    },
    {
      "cell_type": "code",
      "source": [
        "def getCSVFeatures(path, img=None, display=False):\n",
        "    if img is None:\n",
        "        img = mpimg.imread(path)\n",
        "    temp = getFeatures(path, display=display)\n",
        "    features = (temp[0], temp[1][0], temp[1][1], temp[2], temp[3], temp[4][0], temp[4][1], temp[5][0], temp[5][1])\n",
        "    return features"
      ],
      "metadata": {
        "id": "gfPGlY4lW0RU"
      },
      "execution_count": null,
      "outputs": []
    },
    {
      "cell_type": "code",
      "source": [
        "import os\n",
        "\n",
        "def makeCSV():\n",
        "    # Define base and subfolder paths\n",
        "    base_path = r\"/content/drive/MyDrive/Signature-Forgery-Detection-main/Signature-Forgery-Detection-main\"\n",
        "    features_path = os.path.join(base_path, \"Features\")\n",
        "    training_path = os.path.join(features_path, \"Training\")\n",
        "    testing_path = os.path.join(features_path, \"Testing\")\n",
        "\n",
        "    # Create directories if they don't exist\n",
        "    if not os.path.exists(features_path):\n",
        "        os.mkdir(features_path)\n",
        "        print('New folder \"Features\" created')\n",
        "    if not os.path.exists(training_path):\n",
        "        os.mkdir(training_path)\n",
        "        print('New folder \"Features/Training\" created')\n",
        "    if not os.path.exists(testing_path):\n",
        "        os.mkdir(testing_path)\n",
        "        print('New folder \"Features/Testing\" created')\n",
        "\n",
        "    # Define genuine and forged signature paths\n",
        "    gpath = genuine_image_paths  # Ensure this is defined earlier\n",
        "    fpath = forged_image_paths   # Ensure this is defined earlier\n",
        "\n",
        "    # Process data for each person\n",
        "    for person in range(1, 13):\n",
        "        per = ('00' + str(person))[-3:]\n",
        "        print(f'Saving features for person id - {per}')\n",
        "\n",
        "        # Generate training CSV\n",
        "        training_csv_path = os.path.join(training_path, f'training_{per}.csv')\n",
        "        with open(training_csv_path, 'w') as handle:\n",
        "            handle.write('ratio,cent_y,cent_x,eccentricity,solidity,skew_x,skew_y,kurt_x,kurt_y,output\\n')\n",
        "            for i in range(0, 3):  # Genuine signatures\n",
        "                source = os.path.join(gpath, f'{per}{per}_00{i}.png')\n",
        "                features = getCSVFeatures(path=source)  # Ensure getCSVFeatures is defined\n",
        "                handle.write(','.join(map(str, features)) + ',1\\n')\n",
        "            for i in range(0, 3):  # Forged signatures\n",
        "                source = os.path.join(fpath, f'021{per}_00{i}.png')\n",
        "                features = getCSVFeatures(path=source)\n",
        "                handle.write(','.join(map(str, features)) + ',0\\n')\n",
        "\n",
        "        # Generate testing CSV\n",
        "        testing_csv_path = os.path.join(testing_path, f'testing_{per}.csv')\n",
        "        with open(testing_csv_path, 'w') as handle:\n",
        "            handle.write('ratio,cent_y,cent_x,eccentricity,solidity,skew_x,skew_y,kurt_x,kurt_y,output\\n')\n",
        "            for i in range(3, 5):  # Genuine signatures\n",
        "                source = os.path.join(gpath, f'{per}{per}_00{i}.png')\n",
        "                features = getCSVFeatures(path=source)\n",
        "                handle.write(','.join(map(str, features)) + ',1\\n')\n",
        "            for i in range(3, 5):  # Forged signatures\n",
        "                source = os.path.join(fpath, f'021{per}_00{i}.png')\n",
        "                features = getCSVFeatures(path=source)\n",
        "                handle.write(','.join(map(str, features)) + ',0\\n')\n",
        "\n",
        "makeCSV()"
      ],
      "metadata": {
        "id": "bFawI68DXADD",
        "colab": {
          "base_uri": "https://localhost:8080/"
        },
        "outputId": "ff092c6b-1334-48ce-a596-87068e072456"
      },
      "execution_count": null,
      "outputs": [
        {
          "output_type": "stream",
          "name": "stdout",
          "text": [
            "Saving features for person id - 001\n",
            "Saving features for person id - 002\n",
            "Saving features for person id - 003\n",
            "Saving features for person id - 004\n",
            "Saving features for person id - 005\n",
            "Saving features for person id - 006\n",
            "Saving features for person id - 007\n",
            "Saving features for person id - 008\n",
            "Saving features for person id - 009\n",
            "Saving features for person id - 010\n",
            "Saving features for person id - 011\n",
            "Saving features for person id - 012\n"
          ]
        }
      ]
    },
    {
      "cell_type": "code",
      "source": [
        "makeCSV()"
      ],
      "metadata": {
        "id": "HQ0nTbBbXGi7",
        "colab": {
          "base_uri": "https://localhost:8080/"
        },
        "outputId": "ef116968-b98c-441b-93e8-dae5ba6fdc18"
      },
      "execution_count": null,
      "outputs": [
        {
          "output_type": "stream",
          "name": "stdout",
          "text": [
            "Saving features for person id - 001\n",
            "Saving features for person id - 002\n",
            "Saving features for person id - 003\n",
            "Saving features for person id - 004\n",
            "Saving features for person id - 005\n",
            "Saving features for person id - 006\n",
            "Saving features for person id - 007\n",
            "Saving features for person id - 008\n",
            "Saving features for person id - 009\n",
            "Saving features for person id - 010\n",
            "Saving features for person id - 011\n",
            "Saving features for person id - 012\n"
          ]
        }
      ]
    },
    {
      "cell_type": "code",
      "source": [
        "def testing(path):\n",
        "    feature = getCSVFeatures(path)\n",
        "    if not(os.path.exists(r'/content/drive/MyDrive/Signature-Forgery-Detection-main/Signature-Forgery-Detection-main/TestFeatures')):\n",
        "        os.mkdir(r'/content/drive/MyDrive/Signature-Forgery-Detection-main/Signature-Forgery-Detection-main/TestFeatures')\n",
        "    with open(r'/content/drive/MyDrive/Signature-Forgery-Detection-main/Signature-Forgery-Detection-main/TestFeatures/testcsv.csv', 'w') as handle:\n",
        "        handle.write('ratio,cent_y,cent_x,eccentricity,solidity,skew_x,skew_y,kurt_x,kurt_y\\n')\n",
        "        handle.write(','.join(map(str, feature))+'\\n')"
      ],
      "metadata": {
        "id": "y23sUOGmXXCJ"
      },
      "execution_count": null,
      "outputs": []
    },
    {
      "cell_type": "code",
      "source": [
        "n_input = 9\n",
        "train_person_id = input(\"Enter person's id : \")\n",
        "test_image_path = input(\"Enter path of signature image : \")\n",
        "train_path = r\"/content/drive/MyDrive/Signature-Forgery-Detection-main/Signature-Forgery-Detection-main/Features/Training/training_\"+train_person_id+'.csv'\n",
        "testing(test_image_path)\n",
        "test_path =test_pat = r\"/content/drive/MyDrive/Signature-Forgery-Detection-main/Signature-Forgery-Detection-main/TestFeatures/testcsv.csv\"\n",
        "\n",
        "def readCSV(train_path, test_path, type2=False):\n",
        "    # Reading train data\n",
        "    df = pd.read_csv(train_path, usecols=range(n_input))\n",
        "    train_input = np.array(df.values)\n",
        "    train_input = train_input.astype(np.float32, copy=False)  # Converting input to float_32\n",
        "    df = pd.read_csv(train_path, usecols=(n_input,))\n",
        "    temp = [elem[0] for elem in df.values]\n",
        "    correct = np.array(temp)\n",
        "    corr_train = keras.utils.to_categorical(correct,2)      # Converting to one hot\n",
        "    # Reading test data\n",
        "    df = pd.read_csv(test_path, usecols=range(n_input))\n",
        "    test_input = np.array(df.values)\n",
        "    test_input = test_input.astype(np.float32, copy=False)\n",
        "    if not(type2):\n",
        "        df = pd.read_csv(test_path, usecols=(n_input,))\n",
        "        temp = [elem[0] for elem in df.values]\n",
        "        correct = np.array(temp)\n",
        "        corr_test = keras.utils.to_categorical(correct,2)      # Converting to one hot\n",
        "    if not(type2):\n",
        "        return train_input, corr_train, test_input, corr_test\n",
        "    else:\n",
        "        return train_input, corr_train, test_input\n",
        "\n",
        "ops.reset_default_graph()\n",
        "# Parameters\n",
        "learning_rate = 0.001\n",
        "training_epochs = 1000\n",
        "display_step = 1\n",
        "\n",
        "# Network Parameters\n",
        "n_hidden_1 = 7 # 1st layer number of neurons\n",
        "n_hidden_2 = 10 # 2nd layer number of neurons\n",
        "n_hidden_3 = 30 # 3rd layer\n",
        "n_classes = 2 # no. of classes (genuine or forged)\n",
        "\n",
        "# tf Graph input\n",
        "X = tf.placeholder(\"float\", [None, n_input])\n",
        "Y = tf.placeholder(\"float\", [None, n_classes])\n",
        "\n",
        "# Store layers weight & bias\n",
        "weights = {\n",
        "    'h1': tf.Variable(tf.random_normal([n_input, n_hidden_1], seed=1)),\n",
        "    'h2': tf.Variable(tf.random_normal([n_hidden_1, n_hidden_2])),\n",
        "    'h3': tf.Variable(tf.random_normal([n_hidden_2, n_hidden_3])),\n",
        "    'out': tf.Variable(tf.random_normal([n_hidden_1, n_classes], seed=2))\n",
        "}\n",
        "biases = {\n",
        "    'b1': tf.Variable(tf.random_normal([n_hidden_1], seed=3)),\n",
        "    'b2': tf.Variable(tf.random_normal([n_hidden_2])),\n",
        "    'b3': tf.Variable(tf.random_normal([n_hidden_3])),\n",
        "    'out': tf.Variable(tf.random_normal([n_classes], seed=4))\n",
        "}\n",
        "\n",
        "\n",
        "# Create model\n",
        "def multilayer_perceptron(x):\n",
        "    layer_1 = tf.tanh((tf.matmul(x, weights['h1']) + biases['b1']))\n",
        "    layer_2 = tf.add(tf.matmul(layer_1, weights['h2']), biases['b2'])\n",
        "    layer_3 = tf.add(tf.matmul(layer_2, weights['h3']), biases['b3'])\n",
        "    out_layer = tf.tanh(tf.matmul(layer_1, weights['out']) + biases['out'])\n",
        "    return out_layer\n",
        "\n",
        "# Construct model\n",
        "logits = multilayer_perceptron(X)\n",
        "\n",
        "# Define loss and optimizer\n",
        "\n",
        "loss_op = tf.reduce_mean(tf.squared_difference(logits, Y))\n",
        "optimizer = tf.train.AdamOptimizer(learning_rate=learning_rate)\n",
        "train_op = optimizer.minimize(loss_op)\n",
        "# For accuracies\n",
        "pred = tf.nn.softmax(logits)  # Apply softmax to logits\n",
        "correct_prediction = tf.equal(tf.argmax(pred,1), tf.argmax(Y,1))\n",
        "accuracy = tf.reduce_mean(tf.cast(correct_prediction, tf.float32))\n",
        "# Initializing the variables\n",
        "init = tf.global_variables_initializer()\n",
        "\n",
        "def evaluate(train_path, test_path, type2=False):\n",
        "    if not(type2):\n",
        "        train_input, corr_train, test_input, corr_test = readCSV(train_path, test_path)\n",
        "    else:\n",
        "        train_input, corr_train, test_input = readCSV(train_path, test_path, type2)\n",
        "    ans = 'Random'\n",
        "    with tf.Session() as sess:\n",
        "        sess.run(init)\n",
        "        # Training cycle\n",
        "        for epoch in range(training_epochs):\n",
        "            # Run optimization op (backprop) and cost op (to get loss value)\n",
        "            _, cost = sess.run([train_op, loss_op], feed_dict={X: train_input, Y: corr_train})\n",
        "            if cost<0.0001:\n",
        "                break\n",
        "#             # Display logs per epoch step\n",
        "#             if epoch % 999 == 0:\n",
        "#                 print(\"Epoch:\", '%04d' % (epoch+1), \"cost={:.9f}\".format(cost))\n",
        "#         print(\"Optimization Finished!\")\n",
        "\n",
        "        # Finding accuracies\n",
        "        accuracy1 =  accuracy.eval({X: train_input, Y: corr_train})\n",
        "#         print(\"Accuracy for train:\", accuracy1)\n",
        "#         print(\"Accuracy for test:\", accuracy2)\n",
        "        if type2 is False:\n",
        "            accuracy2 =  accuracy.eval({X: test_input, Y: corr_test})\n",
        "            return accuracy1, accuracy2\n",
        "        else:\n",
        "            prediction = pred.eval({X: test_input})\n",
        "            if prediction[0][1]>prediction[0][0]:\n",
        "                print('Genuine Image')\n",
        "                return True\n",
        "            else:\n",
        "                print('Forged Image')\n",
        "                return False\n",
        "\n",
        "\n",
        "def trainAndTest(rate=0.001, epochs=1700, neurons=7, display=False):\n",
        "    start = time()\n",
        "\n",
        "    # Parameters\n",
        "    global training_rate, training_epochs, n_hidden_1\n",
        "    learning_rate = rate\n",
        "    training_epochs = epochs\n",
        "\n",
        "    # Network Parameters\n",
        "    n_hidden_1 = neurons # 1st layer number of neurons\n",
        "    n_hidden_2 = 7 # 2nd layer number of neurons\n",
        "    n_hidden_3 = 30 # 3rd layer\n",
        "\n",
        "    train_avg, test_avg = 0, 0\n",
        "    n = 10\n",
        "    for i in range(1,n+1):\n",
        "        if display:\n",
        "            print(\"Running for Person id\",i)\n",
        "        temp = ('0'+str(i))[-2:]\n",
        "        train_score, test_score = evaluate(train_path.replace('01',temp), test_path.replace('01',temp))\n",
        "        train_avg += train_score\n",
        "        test_avg += test_score\n",
        "    if display:\n",
        "#         print(\"Number of neurons in Hidden layer-\", n_hidden_1)\n",
        "        print(\"Training average-\", train_avg/n)\n",
        "        print(\"Testing average-\", test_avg/n)\n",
        "        print(\"Time taken-\", time()-start)\n",
        "    return train_avg/n, test_avg/n, (time()-start)/n\n",
        "\n",
        "\n",
        "evaluate(train_path, test_path, type2=True)\n"
      ],
      "metadata": {
        "id": "TWnZ27sYX5CQ",
        "colab": {
          "base_uri": "https://localhost:8080/"
        },
        "outputId": "0a150bac-1c0d-4f37-e52d-a9788b36976b"
      },
      "execution_count": null,
      "outputs": [
        {
          "output_type": "stream",
          "name": "stdout",
          "text": [
            "Enter person's id : 003\n",
            "Enter path of signature image : /content/drive/MyDrive/Signature-Forgery-Detection-main/Signature-Forgery-Detection-main/real/001001_003.png\n",
            "Forged Image\n"
          ]
        },
        {
          "output_type": "execute_result",
          "data": {
            "text/plain": [
              "False"
            ]
          },
          "metadata": {},
          "execution_count": 20
        }
      ]
    },
    {
      "cell_type": "code",
      "source": [],
      "metadata": {
        "id": "jd6bW7sWoqaS"
      },
      "execution_count": null,
      "outputs": []
    }
  ]
}